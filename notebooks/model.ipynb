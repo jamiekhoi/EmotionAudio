{
 "cells": [
  {
   "cell_type": "code",
   "execution_count": 1,
   "metadata": {
    "scrolled": true
   },
   "outputs": [
    {
     "name": "stderr",
     "output_type": "stream",
     "text": [
      "Using TensorFlow backend.\n"
     ]
    },
    {
     "name": "stdout",
     "output_type": "stream",
     "text": [
      "Device mapping:\n",
      "/job:localhost/replica:0/task:0/device:XLA_CPU:0 -> device: XLA_CPU device\n",
      "/job:localhost/replica:0/task:0/device:XLA_GPU:0 -> device: XLA_GPU device\n",
      "/job:localhost/replica:0/task:0/device:GPU:0 -> device: 0, name: GeForce RTX 2070 SUPER, pci bus id: 0000:08:00.0, compute capability: 7.5\n",
      "\n"
     ]
    }
   ],
   "source": [
    "import os\n",
    "from scipy.io import wavfile\n",
    "import pandas as pd\n",
    "import matplotlib.pyplot as plt\n",
    "import numpy as np\n",
    "from keras.layers import Conv2D, MaxPool2D, Flatten, LSTM\n",
    "from keras.layers import Dropout, Dense, TimeDistributed\n",
    "from keras.models import Sequential\n",
    "from keras.utils import to_categorical\n",
    "from sklearn.utils.class_weight import compute_class_weight\n",
    "from tqdm import tqdm\n",
    "from python_speech_features import mfcc\n",
    "\n",
    "import pickle\n",
    "from keras.callbacks import ModelCheckpoint\n",
    "#from cfg import Config\n",
    "\n",
    "### Memory/Gpu error without this for some reason, find out why later\n",
    "from keras.backend.tensorflow_backend import set_session\n",
    "import tensorflow as tf\n",
    "config = tf.ConfigProto()\n",
    "config.gpu_options.allow_growth = True  # dynamically grow the memory used on the GPU\n",
    "config.log_device_placement = True  # to log device placement (on which device the operation ran)\n",
    "sess = tf.Session(config=config)\n",
    "set_session(sess)  # set this TensorFlow session as the default session for Keras\n",
    "###"
   ]
  },
  {
   "cell_type": "code",
   "execution_count": 2,
   "metadata": {},
   "outputs": [],
   "source": [
    "os.chdir('..')"
   ]
  },
  {
   "cell_type": "code",
   "execution_count": 3,
   "metadata": {},
   "outputs": [
    {
     "data": {
      "text/plain": [
       "1"
      ]
     },
     "execution_count": 3,
     "metadata": {},
     "output_type": "execute_result"
    }
   ],
   "source": [
    "len([x for x in range(0,77)])//50"
   ]
  },
  {
   "cell_type": "code",
   "execution_count": 4,
   "metadata": {},
   "outputs": [],
   "source": [
    "MAIN_PATH = 'Processed/RAVDESSspeech/'"
   ]
  },
  {
   "cell_type": "code",
   "execution_count": 5,
   "metadata": {},
   "outputs": [],
   "source": [
    "def check_data():\n",
    "    if os.path.isfile(config.p_path):\n",
    "        print('Loading existing data for {} model'.format(config.mode))\n",
    "        with open(config.p_path, 'rb') as handle:\n",
    "            tmp = pickle.load(handle)\n",
    "            return tmp\n",
    "    else:\n",
    "        return None"
   ]
  },
  {
   "cell_type": "code",
   "execution_count": 6,
   "metadata": {},
   "outputs": [],
   "source": [
    "def build_rand_feat():\n",
    "    tmp = check_data()\n",
    "    if tmp:\n",
    "        return tmp.data[0], tmp.data[1]\n",
    "    \n",
    "    X = []\n",
    "    y = []\n",
    "    _min, _max = float('inf'), -float('inf')\n",
    "    for _ in tqdm(range(n_samples)):\n",
    "        # Get random class\n",
    "        rand_class = np.random.choice(class_dist.index, p=prob_dist)\n",
    "        # Grab a file belonging to the random class\n",
    "        file = np.random.choice(df[df.Emotion==rand_class].index)\n",
    "        rate, wav = wavfile.read(MAIN_PATH + 'clean/' + file)\n",
    "        label = df.at[file, 'Emotion']\n",
    "        # Start to grab a random 10 millisecond interval from the file\n",
    "        rand_index = np.random.randint(0, wav.shape[0] - config.step)\n",
    "        sample = wav[rand_index:rand_index + config.step]\n",
    "        # Get MFCC\n",
    "        X_sample = mfcc(sample, rate, \n",
    "                        numcep=config.nfeat, nfilt=config.nfilt, nfft=config.nfft)\n",
    "        # Update _min and _max\n",
    "        _min = min(np.amin(X_sample), _min)\n",
    "        _max = max(np.amax(X_sample), _max)\n",
    "        \n",
    "        X.append(X_sample)\n",
    "        y.append(classes.index(label)) # label is an integer (index posistion of label)\n",
    "    config.min = _min\n",
    "    config.max = _max\n",
    "    X, y = np.array(X), np.array(y)\n",
    "    # Normalize X to rescale between 0 and 1\n",
    "    X = (X - _min) / (_max - _min)\n",
    "    \n",
    "    #FOR TESTING\n",
    "    pre_reshapeX = X\n",
    "    #####\n",
    "    \n",
    "    if config.mode == 'conv':\n",
    "        X = X.reshape(X.shape[0], X.shape[1], X.shape[2], 1)\n",
    "    # For recurrent network\n",
    "    elif config.mode == 'time':\n",
    "        X = X.reshape(X.shape[0], X.shape[1], X.shape[2])\n",
    "        \n",
    "    # Because of the cost function for the neural network (categorical crossentropi?) we\n",
    "    #one hot encode integer labels to a matrix\n",
    "    y = to_categorical(y, num_classes=len(classes))\n",
    "    \n",
    "    config.data = (X, y)\n",
    "    with open(config.p_path, 'wb') as handle:\n",
    "        pickle.dump(config, handle, protocol=pickle.HIGHEST_PROTOCOL)\n",
    "    return X, y"
   ]
  },
  {
   "cell_type": "code",
   "execution_count": 7,
   "metadata": {},
   "outputs": [],
   "source": [
    "#Moved to cfg.py\n",
    "class Config:\n",
    "    def __init__(self, data_save_path=MAIN_PATH, mode='conv', nfilt=26, \n",
    "                 nfeat=13, nfft=512, rate=16000, step_seconds=0.4):\n",
    "        self.rate = rate\n",
    "        self.nfft = nfft\n",
    "        self.nfeat = nfeat\n",
    "        self.nfilt = nfilt\n",
    "        self.mode = mode\n",
    "        self.step = int(rate*step_seconds) # \n",
    "        # newer lines\n",
    "        self.model_path = os.path.join(MAIN_PATH, mode + '.model')\n",
    "        self.p_path = os.path.join(MAIN_PATH, mode + '.p')"
   ]
  },
  {
   "cell_type": "code",
   "execution_count": 8,
   "metadata": {},
   "outputs": [],
   "source": [
    "df = pd.read_csv(MAIN_PATH + 'ravdessSpeech.csv')\n",
    "df.set_index('Filename', inplace=True)"
   ]
  },
  {
   "cell_type": "code",
   "execution_count": 9,
   "metadata": {
    "collapsed": true
   },
   "outputs": [
    {
     "data": {
      "text/html": [
       "<div>\n",
       "<style scoped>\n",
       "    .dataframe tbody tr th:only-of-type {\n",
       "        vertical-align: middle;\n",
       "    }\n",
       "\n",
       "    .dataframe tbody tr th {\n",
       "        vertical-align: top;\n",
       "    }\n",
       "\n",
       "    .dataframe thead th {\n",
       "        text-align: right;\n",
       "    }\n",
       "</style>\n",
       "<table border=\"1\" class=\"dataframe\">\n",
       "  <thead>\n",
       "    <tr style=\"text-align: right;\">\n",
       "      <th></th>\n",
       "      <th>FilePath</th>\n",
       "      <th>Modality</th>\n",
       "      <th>VocalChannel</th>\n",
       "      <th>Emotion</th>\n",
       "      <th>EmotionalIntensity</th>\n",
       "      <th>Statement</th>\n",
       "      <th>Repitition</th>\n",
       "      <th>Actor</th>\n",
       "      <th>Gender</th>\n",
       "    </tr>\n",
       "    <tr>\n",
       "      <th>Filename</th>\n",
       "      <th></th>\n",
       "      <th></th>\n",
       "      <th></th>\n",
       "      <th></th>\n",
       "      <th></th>\n",
       "      <th></th>\n",
       "      <th></th>\n",
       "      <th></th>\n",
       "      <th></th>\n",
       "    </tr>\n",
       "  </thead>\n",
       "  <tbody>\n",
       "    <tr>\n",
       "      <th>03-01-01-01-01-02-05.wav</th>\n",
       "      <td>Datasets/Audio_Speech_Actors_01-24/Actor_05/03...</td>\n",
       "      <td>3</td>\n",
       "      <td>1</td>\n",
       "      <td>Neutral</td>\n",
       "      <td>1</td>\n",
       "      <td>1</td>\n",
       "      <td>2</td>\n",
       "      <td>5</td>\n",
       "      <td>Male</td>\n",
       "    </tr>\n",
       "    <tr>\n",
       "      <th>03-01-04-02-02-01-05.wav</th>\n",
       "      <td>Datasets/Audio_Speech_Actors_01-24/Actor_05/03...</td>\n",
       "      <td>3</td>\n",
       "      <td>1</td>\n",
       "      <td>Sad</td>\n",
       "      <td>2</td>\n",
       "      <td>2</td>\n",
       "      <td>1</td>\n",
       "      <td>5</td>\n",
       "      <td>Male</td>\n",
       "    </tr>\n",
       "    <tr>\n",
       "      <th>03-01-04-01-01-02-05.wav</th>\n",
       "      <td>Datasets/Audio_Speech_Actors_01-24/Actor_05/03...</td>\n",
       "      <td>3</td>\n",
       "      <td>1</td>\n",
       "      <td>Sad</td>\n",
       "      <td>1</td>\n",
       "      <td>1</td>\n",
       "      <td>2</td>\n",
       "      <td>5</td>\n",
       "      <td>Male</td>\n",
       "    </tr>\n",
       "    <tr>\n",
       "      <th>03-01-03-02-01-02-05.wav</th>\n",
       "      <td>Datasets/Audio_Speech_Actors_01-24/Actor_05/03...</td>\n",
       "      <td>3</td>\n",
       "      <td>1</td>\n",
       "      <td>Happy</td>\n",
       "      <td>2</td>\n",
       "      <td>1</td>\n",
       "      <td>2</td>\n",
       "      <td>5</td>\n",
       "      <td>Male</td>\n",
       "    </tr>\n",
       "    <tr>\n",
       "      <th>03-01-04-02-01-01-05.wav</th>\n",
       "      <td>Datasets/Audio_Speech_Actors_01-24/Actor_05/03...</td>\n",
       "      <td>3</td>\n",
       "      <td>1</td>\n",
       "      <td>Sad</td>\n",
       "      <td>2</td>\n",
       "      <td>1</td>\n",
       "      <td>1</td>\n",
       "      <td>5</td>\n",
       "      <td>Male</td>\n",
       "    </tr>\n",
       "    <tr>\n",
       "      <th>...</th>\n",
       "      <td>...</td>\n",
       "      <td>...</td>\n",
       "      <td>...</td>\n",
       "      <td>...</td>\n",
       "      <td>...</td>\n",
       "      <td>...</td>\n",
       "      <td>...</td>\n",
       "      <td>...</td>\n",
       "      <td>...</td>\n",
       "    </tr>\n",
       "    <tr>\n",
       "      <th>03-01-06-02-02-01-04.wav</th>\n",
       "      <td>Datasets/Audio_Speech_Actors_01-24/Actor_04/03...</td>\n",
       "      <td>3</td>\n",
       "      <td>1</td>\n",
       "      <td>Fearful</td>\n",
       "      <td>2</td>\n",
       "      <td>2</td>\n",
       "      <td>1</td>\n",
       "      <td>4</td>\n",
       "      <td>Female</td>\n",
       "    </tr>\n",
       "    <tr>\n",
       "      <th>03-01-01-01-02-02-04.wav</th>\n",
       "      <td>Datasets/Audio_Speech_Actors_01-24/Actor_04/03...</td>\n",
       "      <td>3</td>\n",
       "      <td>1</td>\n",
       "      <td>Neutral</td>\n",
       "      <td>1</td>\n",
       "      <td>2</td>\n",
       "      <td>2</td>\n",
       "      <td>4</td>\n",
       "      <td>Female</td>\n",
       "    </tr>\n",
       "    <tr>\n",
       "      <th>03-01-06-01-02-02-04.wav</th>\n",
       "      <td>Datasets/Audio_Speech_Actors_01-24/Actor_04/03...</td>\n",
       "      <td>3</td>\n",
       "      <td>1</td>\n",
       "      <td>Fearful</td>\n",
       "      <td>1</td>\n",
       "      <td>2</td>\n",
       "      <td>2</td>\n",
       "      <td>4</td>\n",
       "      <td>Female</td>\n",
       "    </tr>\n",
       "    <tr>\n",
       "      <th>03-01-07-02-02-02-04.wav</th>\n",
       "      <td>Datasets/Audio_Speech_Actors_01-24/Actor_04/03...</td>\n",
       "      <td>3</td>\n",
       "      <td>1</td>\n",
       "      <td>Disgust</td>\n",
       "      <td>2</td>\n",
       "      <td>2</td>\n",
       "      <td>2</td>\n",
       "      <td>4</td>\n",
       "      <td>Female</td>\n",
       "    </tr>\n",
       "    <tr>\n",
       "      <th>03-01-03-02-02-01-04.wav</th>\n",
       "      <td>Datasets/Audio_Speech_Actors_01-24/Actor_04/03...</td>\n",
       "      <td>3</td>\n",
       "      <td>1</td>\n",
       "      <td>Happy</td>\n",
       "      <td>2</td>\n",
       "      <td>2</td>\n",
       "      <td>1</td>\n",
       "      <td>4</td>\n",
       "      <td>Female</td>\n",
       "    </tr>\n",
       "  </tbody>\n",
       "</table>\n",
       "<p>1440 rows × 9 columns</p>\n",
       "</div>"
      ],
      "text/plain": [
       "                                                                   FilePath  \\\n",
       "Filename                                                                      \n",
       "03-01-01-01-01-02-05.wav  Datasets/Audio_Speech_Actors_01-24/Actor_05/03...   \n",
       "03-01-04-02-02-01-05.wav  Datasets/Audio_Speech_Actors_01-24/Actor_05/03...   \n",
       "03-01-04-01-01-02-05.wav  Datasets/Audio_Speech_Actors_01-24/Actor_05/03...   \n",
       "03-01-03-02-01-02-05.wav  Datasets/Audio_Speech_Actors_01-24/Actor_05/03...   \n",
       "03-01-04-02-01-01-05.wav  Datasets/Audio_Speech_Actors_01-24/Actor_05/03...   \n",
       "...                                                                     ...   \n",
       "03-01-06-02-02-01-04.wav  Datasets/Audio_Speech_Actors_01-24/Actor_04/03...   \n",
       "03-01-01-01-02-02-04.wav  Datasets/Audio_Speech_Actors_01-24/Actor_04/03...   \n",
       "03-01-06-01-02-02-04.wav  Datasets/Audio_Speech_Actors_01-24/Actor_04/03...   \n",
       "03-01-07-02-02-02-04.wav  Datasets/Audio_Speech_Actors_01-24/Actor_04/03...   \n",
       "03-01-03-02-02-01-04.wav  Datasets/Audio_Speech_Actors_01-24/Actor_04/03...   \n",
       "\n",
       "                          Modality  VocalChannel  Emotion  EmotionalIntensity  \\\n",
       "Filename                                                                        \n",
       "03-01-01-01-01-02-05.wav         3             1  Neutral                   1   \n",
       "03-01-04-02-02-01-05.wav         3             1      Sad                   2   \n",
       "03-01-04-01-01-02-05.wav         3             1      Sad                   1   \n",
       "03-01-03-02-01-02-05.wav         3             1    Happy                   2   \n",
       "03-01-04-02-01-01-05.wav         3             1      Sad                   2   \n",
       "...                            ...           ...      ...                 ...   \n",
       "03-01-06-02-02-01-04.wav         3             1  Fearful                   2   \n",
       "03-01-01-01-02-02-04.wav         3             1  Neutral                   1   \n",
       "03-01-06-01-02-02-04.wav         3             1  Fearful                   1   \n",
       "03-01-07-02-02-02-04.wav         3             1  Disgust                   2   \n",
       "03-01-03-02-02-01-04.wav         3             1    Happy                   2   \n",
       "\n",
       "                          Statement  Repitition  Actor  Gender  \n",
       "Filename                                                        \n",
       "03-01-01-01-01-02-05.wav          1           2      5    Male  \n",
       "03-01-04-02-02-01-05.wav          2           1      5    Male  \n",
       "03-01-04-01-01-02-05.wav          1           2      5    Male  \n",
       "03-01-03-02-01-02-05.wav          1           2      5    Male  \n",
       "03-01-04-02-01-01-05.wav          1           1      5    Male  \n",
       "...                             ...         ...    ...     ...  \n",
       "03-01-06-02-02-01-04.wav          2           1      4  Female  \n",
       "03-01-01-01-02-02-04.wav          2           2      4  Female  \n",
       "03-01-06-01-02-02-04.wav          2           2      4  Female  \n",
       "03-01-07-02-02-02-04.wav          2           2      4  Female  \n",
       "03-01-03-02-02-01-04.wav          2           1      4  Female  \n",
       "\n",
       "[1440 rows x 9 columns]"
      ]
     },
     "execution_count": 9,
     "metadata": {},
     "output_type": "execute_result"
    }
   ],
   "source": [
    "df"
   ]
  },
  {
   "cell_type": "markdown",
   "metadata": {},
   "source": [
    "Add length to panda frame. length in seconds"
   ]
  },
  {
   "cell_type": "code",
   "execution_count": 10,
   "metadata": {
    "scrolled": true
   },
   "outputs": [],
   "source": [
    "for f in df.index:\n",
    "    rate, signal = wavfile.read(MAIN_PATH + 'clean/' + f)\n",
    "    df.at[f, 'length'] = signal.shape[0]/rate"
   ]
  },
  {
   "cell_type": "code",
   "execution_count": 11,
   "metadata": {
    "collapsed": true
   },
   "outputs": [
    {
     "data": {
      "text/html": [
       "<div>\n",
       "<style scoped>\n",
       "    .dataframe tbody tr th:only-of-type {\n",
       "        vertical-align: middle;\n",
       "    }\n",
       "\n",
       "    .dataframe tbody tr th {\n",
       "        vertical-align: top;\n",
       "    }\n",
       "\n",
       "    .dataframe thead th {\n",
       "        text-align: right;\n",
       "    }\n",
       "</style>\n",
       "<table border=\"1\" class=\"dataframe\">\n",
       "  <thead>\n",
       "    <tr style=\"text-align: right;\">\n",
       "      <th></th>\n",
       "      <th>FilePath</th>\n",
       "      <th>Modality</th>\n",
       "      <th>VocalChannel</th>\n",
       "      <th>Emotion</th>\n",
       "      <th>EmotionalIntensity</th>\n",
       "      <th>Statement</th>\n",
       "      <th>Repitition</th>\n",
       "      <th>Actor</th>\n",
       "      <th>Gender</th>\n",
       "      <th>length</th>\n",
       "    </tr>\n",
       "    <tr>\n",
       "      <th>Filename</th>\n",
       "      <th></th>\n",
       "      <th></th>\n",
       "      <th></th>\n",
       "      <th></th>\n",
       "      <th></th>\n",
       "      <th></th>\n",
       "      <th></th>\n",
       "      <th></th>\n",
       "      <th></th>\n",
       "      <th></th>\n",
       "    </tr>\n",
       "  </thead>\n",
       "  <tbody>\n",
       "    <tr>\n",
       "      <th>03-01-01-01-01-02-05.wav</th>\n",
       "      <td>Datasets/Audio_Speech_Actors_01-24/Actor_05/03...</td>\n",
       "      <td>3</td>\n",
       "      <td>1</td>\n",
       "      <td>Neutral</td>\n",
       "      <td>1</td>\n",
       "      <td>1</td>\n",
       "      <td>2</td>\n",
       "      <td>5</td>\n",
       "      <td>Male</td>\n",
       "      <td>1.597625</td>\n",
       "    </tr>\n",
       "    <tr>\n",
       "      <th>03-01-04-02-02-01-05.wav</th>\n",
       "      <td>Datasets/Audio_Speech_Actors_01-24/Actor_05/03...</td>\n",
       "      <td>3</td>\n",
       "      <td>1</td>\n",
       "      <td>Sad</td>\n",
       "      <td>2</td>\n",
       "      <td>2</td>\n",
       "      <td>1</td>\n",
       "      <td>5</td>\n",
       "      <td>Male</td>\n",
       "      <td>1.174125</td>\n",
       "    </tr>\n",
       "    <tr>\n",
       "      <th>03-01-04-01-01-02-05.wav</th>\n",
       "      <td>Datasets/Audio_Speech_Actors_01-24/Actor_05/03...</td>\n",
       "      <td>3</td>\n",
       "      <td>1</td>\n",
       "      <td>Sad</td>\n",
       "      <td>1</td>\n",
       "      <td>1</td>\n",
       "      <td>2</td>\n",
       "      <td>5</td>\n",
       "      <td>Male</td>\n",
       "      <td>1.417625</td>\n",
       "    </tr>\n",
       "    <tr>\n",
       "      <th>03-01-03-02-01-02-05.wav</th>\n",
       "      <td>Datasets/Audio_Speech_Actors_01-24/Actor_05/03...</td>\n",
       "      <td>3</td>\n",
       "      <td>1</td>\n",
       "      <td>Happy</td>\n",
       "      <td>2</td>\n",
       "      <td>1</td>\n",
       "      <td>2</td>\n",
       "      <td>5</td>\n",
       "      <td>Male</td>\n",
       "      <td>2.074375</td>\n",
       "    </tr>\n",
       "    <tr>\n",
       "      <th>03-01-04-02-01-01-05.wav</th>\n",
       "      <td>Datasets/Audio_Speech_Actors_01-24/Actor_05/03...</td>\n",
       "      <td>3</td>\n",
       "      <td>1</td>\n",
       "      <td>Sad</td>\n",
       "      <td>2</td>\n",
       "      <td>1</td>\n",
       "      <td>1</td>\n",
       "      <td>5</td>\n",
       "      <td>Male</td>\n",
       "      <td>1.447750</td>\n",
       "    </tr>\n",
       "    <tr>\n",
       "      <th>...</th>\n",
       "      <td>...</td>\n",
       "      <td>...</td>\n",
       "      <td>...</td>\n",
       "      <td>...</td>\n",
       "      <td>...</td>\n",
       "      <td>...</td>\n",
       "      <td>...</td>\n",
       "      <td>...</td>\n",
       "      <td>...</td>\n",
       "      <td>...</td>\n",
       "    </tr>\n",
       "    <tr>\n",
       "      <th>03-01-06-02-02-01-04.wav</th>\n",
       "      <td>Datasets/Audio_Speech_Actors_01-24/Actor_04/03...</td>\n",
       "      <td>3</td>\n",
       "      <td>1</td>\n",
       "      <td>Fearful</td>\n",
       "      <td>2</td>\n",
       "      <td>2</td>\n",
       "      <td>1</td>\n",
       "      <td>4</td>\n",
       "      <td>Female</td>\n",
       "      <td>1.756000</td>\n",
       "    </tr>\n",
       "    <tr>\n",
       "      <th>03-01-01-01-02-02-04.wav</th>\n",
       "      <td>Datasets/Audio_Speech_Actors_01-24/Actor_04/03...</td>\n",
       "      <td>3</td>\n",
       "      <td>1</td>\n",
       "      <td>Neutral</td>\n",
       "      <td>1</td>\n",
       "      <td>2</td>\n",
       "      <td>2</td>\n",
       "      <td>4</td>\n",
       "      <td>Female</td>\n",
       "      <td>1.241750</td>\n",
       "    </tr>\n",
       "    <tr>\n",
       "      <th>03-01-06-01-02-02-04.wav</th>\n",
       "      <td>Datasets/Audio_Speech_Actors_01-24/Actor_04/03...</td>\n",
       "      <td>3</td>\n",
       "      <td>1</td>\n",
       "      <td>Fearful</td>\n",
       "      <td>1</td>\n",
       "      <td>2</td>\n",
       "      <td>2</td>\n",
       "      <td>4</td>\n",
       "      <td>Female</td>\n",
       "      <td>1.496375</td>\n",
       "    </tr>\n",
       "    <tr>\n",
       "      <th>03-01-07-02-02-02-04.wav</th>\n",
       "      <td>Datasets/Audio_Speech_Actors_01-24/Actor_04/03...</td>\n",
       "      <td>3</td>\n",
       "      <td>1</td>\n",
       "      <td>Disgust</td>\n",
       "      <td>2</td>\n",
       "      <td>2</td>\n",
       "      <td>2</td>\n",
       "      <td>4</td>\n",
       "      <td>Female</td>\n",
       "      <td>2.046375</td>\n",
       "    </tr>\n",
       "    <tr>\n",
       "      <th>03-01-03-02-02-01-04.wav</th>\n",
       "      <td>Datasets/Audio_Speech_Actors_01-24/Actor_04/03...</td>\n",
       "      <td>3</td>\n",
       "      <td>1</td>\n",
       "      <td>Happy</td>\n",
       "      <td>2</td>\n",
       "      <td>2</td>\n",
       "      <td>1</td>\n",
       "      <td>4</td>\n",
       "      <td>Female</td>\n",
       "      <td>1.659250</td>\n",
       "    </tr>\n",
       "  </tbody>\n",
       "</table>\n",
       "<p>1440 rows × 10 columns</p>\n",
       "</div>"
      ],
      "text/plain": [
       "                                                                   FilePath  \\\n",
       "Filename                                                                      \n",
       "03-01-01-01-01-02-05.wav  Datasets/Audio_Speech_Actors_01-24/Actor_05/03...   \n",
       "03-01-04-02-02-01-05.wav  Datasets/Audio_Speech_Actors_01-24/Actor_05/03...   \n",
       "03-01-04-01-01-02-05.wav  Datasets/Audio_Speech_Actors_01-24/Actor_05/03...   \n",
       "03-01-03-02-01-02-05.wav  Datasets/Audio_Speech_Actors_01-24/Actor_05/03...   \n",
       "03-01-04-02-01-01-05.wav  Datasets/Audio_Speech_Actors_01-24/Actor_05/03...   \n",
       "...                                                                     ...   \n",
       "03-01-06-02-02-01-04.wav  Datasets/Audio_Speech_Actors_01-24/Actor_04/03...   \n",
       "03-01-01-01-02-02-04.wav  Datasets/Audio_Speech_Actors_01-24/Actor_04/03...   \n",
       "03-01-06-01-02-02-04.wav  Datasets/Audio_Speech_Actors_01-24/Actor_04/03...   \n",
       "03-01-07-02-02-02-04.wav  Datasets/Audio_Speech_Actors_01-24/Actor_04/03...   \n",
       "03-01-03-02-02-01-04.wav  Datasets/Audio_Speech_Actors_01-24/Actor_04/03...   \n",
       "\n",
       "                          Modality  VocalChannel  Emotion  EmotionalIntensity  \\\n",
       "Filename                                                                        \n",
       "03-01-01-01-01-02-05.wav         3             1  Neutral                   1   \n",
       "03-01-04-02-02-01-05.wav         3             1      Sad                   2   \n",
       "03-01-04-01-01-02-05.wav         3             1      Sad                   1   \n",
       "03-01-03-02-01-02-05.wav         3             1    Happy                   2   \n",
       "03-01-04-02-01-01-05.wav         3             1      Sad                   2   \n",
       "...                            ...           ...      ...                 ...   \n",
       "03-01-06-02-02-01-04.wav         3             1  Fearful                   2   \n",
       "03-01-01-01-02-02-04.wav         3             1  Neutral                   1   \n",
       "03-01-06-01-02-02-04.wav         3             1  Fearful                   1   \n",
       "03-01-07-02-02-02-04.wav         3             1  Disgust                   2   \n",
       "03-01-03-02-02-01-04.wav         3             1    Happy                   2   \n",
       "\n",
       "                          Statement  Repitition  Actor  Gender    length  \n",
       "Filename                                                                  \n",
       "03-01-01-01-01-02-05.wav          1           2      5    Male  1.597625  \n",
       "03-01-04-02-02-01-05.wav          2           1      5    Male  1.174125  \n",
       "03-01-04-01-01-02-05.wav          1           2      5    Male  1.417625  \n",
       "03-01-03-02-01-02-05.wav          1           2      5    Male  2.074375  \n",
       "03-01-04-02-01-01-05.wav          1           1      5    Male  1.447750  \n",
       "...                             ...         ...    ...     ...       ...  \n",
       "03-01-06-02-02-01-04.wav          2           1      4  Female  1.756000  \n",
       "03-01-01-01-02-02-04.wav          2           2      4  Female  1.241750  \n",
       "03-01-06-01-02-02-04.wav          2           2      4  Female  1.496375  \n",
       "03-01-07-02-02-02-04.wav          2           2      4  Female  2.046375  \n",
       "03-01-03-02-02-01-04.wav          2           1      4  Female  1.659250  \n",
       "\n",
       "[1440 rows x 10 columns]"
      ]
     },
     "execution_count": 11,
     "metadata": {},
     "output_type": "execute_result"
    }
   ],
   "source": [
    "df"
   ]
  },
  {
   "cell_type": "markdown",
   "metadata": {},
   "source": [
    "Show class distribution"
   ]
  },
  {
   "cell_type": "code",
   "execution_count": 12,
   "metadata": {},
   "outputs": [],
   "source": [
    "classes = list(np.unique(df.Emotion))\n",
    "class_dist = df.groupby(['Emotion'])['length'].mean()"
   ]
  },
  {
   "cell_type": "code",
   "execution_count": 13,
   "metadata": {
    "scrolled": true
   },
   "outputs": [
    {
     "data": {
      "text/plain": [
       "['Angry', 'Calm', 'Disgust', 'Fearful', 'Happy', 'Neutral', 'Sad', 'Surprised']"
      ]
     },
     "execution_count": 13,
     "metadata": {},
     "output_type": "execute_result"
    }
   ],
   "source": [
    "classes"
   ]
  },
  {
   "cell_type": "code",
   "execution_count": 14,
   "metadata": {},
   "outputs": [
    {
     "data": {
      "text/plain": [
       "8"
      ]
     },
     "execution_count": 14,
     "metadata": {},
     "output_type": "execute_result"
    }
   ],
   "source": [
    "len(classes)"
   ]
  },
  {
   "cell_type": "code",
   "execution_count": 15,
   "metadata": {},
   "outputs": [
    {
     "data": {
      "text/plain": [
       "Emotion\n",
       "Angry        2.098734\n",
       "Calm         1.796068\n",
       "Disgust      2.032028\n",
       "Fearful      1.954391\n",
       "Happy        1.847820\n",
       "Neutral      1.549719\n",
       "Sad          1.790979\n",
       "Surprised    1.623700\n",
       "Name: length, dtype: float64"
      ]
     },
     "execution_count": 15,
     "metadata": {},
     "output_type": "execute_result"
    }
   ],
   "source": [
    "class_dist"
   ]
  },
  {
   "cell_type": "code",
   "execution_count": 16,
   "metadata": {},
   "outputs": [
    {
     "data": {
      "text/plain": [
       "26723"
      ]
     },
     "execution_count": 16,
     "metadata": {},
     "output_type": "execute_result"
    }
   ],
   "source": [
    "n_samples = int(df['length'].sum()/0.1)\n",
    "n_samples"
   ]
  },
  {
   "cell_type": "markdown",
   "metadata": {},
   "source": [
    "probability distribution so that sum is equal to 1"
   ]
  },
  {
   "cell_type": "code",
   "execution_count": 17,
   "metadata": {},
   "outputs": [],
   "source": [
    "prob_dist = class_dist/class_dist.sum()"
   ]
  },
  {
   "cell_type": "code",
   "execution_count": 18,
   "metadata": {},
   "outputs": [
    {
     "data": {
      "text/plain": [
       "Emotion\n",
       "Angry        0.142835\n",
       "Calm         0.122236\n",
       "Disgust      0.138295\n",
       "Fearful      0.133011\n",
       "Happy        0.125758\n",
       "Neutral      0.105470\n",
       "Sad          0.121890\n",
       "Surprised    0.110505\n",
       "Name: length, dtype: float64"
      ]
     },
     "execution_count": 18,
     "metadata": {},
     "output_type": "execute_result"
    }
   ],
   "source": [
    "prob_dist"
   ]
  },
  {
   "cell_type": "code",
   "execution_count": 19,
   "metadata": {},
   "outputs": [
    {
     "data": {
      "text/plain": [
       "'Disgust'"
      ]
     },
     "execution_count": 19,
     "metadata": {},
     "output_type": "execute_result"
    }
   ],
   "source": [
    "choices = np.random.choice(class_dist.index, p=prob_dist)\n",
    "choices"
   ]
  },
  {
   "cell_type": "code",
   "execution_count": 20,
   "metadata": {},
   "outputs": [
    {
     "data": {
      "image/png": "[encoded data removed]",
      "text/plain": [
       "<Figure size 432x288 with 1 Axes>"
      ]
     },
     "metadata": {},
     "output_type": "display_data"
    }
   ],
   "source": [
    "fig, ax = plt.subplots()\n",
    "ax.set_title('Class Distribution', y=1.08)\n",
    "ax.pie(class_dist, labels=class_dist.index, autopct='%1.1f%%',\n",
    "       shadow=False, startangle=90)\n",
    "ax.axis('equal')\n",
    "plt.show()"
   ]
  },
  {
   "cell_type": "code",
   "execution_count": 21,
   "metadata": {},
   "outputs": [],
   "source": [
    "def get_conv_model():\n",
    "    model = Sequential()\n",
    "    model.add(Conv2D(16, (3, 3), activation='relu', strides=(1, 1), \n",
    "                     padding='same', input_shape=input_shape)) # 16 filters, 3x3 convolution(why square convolutions instead of rectangular?),  \n",
    "    model.add(Conv2D(32, (3, 3), activation='relu', strides=(1, 1), \n",
    "                     padding='same'))\n",
    "    model.add(Conv2D(64, (3, 3), activation='relu', strides=(1, 1), \n",
    "                     padding='same'))\n",
    "    model.add(Conv2D(128, (3, 3), activation='relu', strides=(1, 1), \n",
    "                     padding='same'))\n",
    "    model.add(MaxPool2D((2,2)))\n",
    "    model.add(Dropout(0.5))\n",
    "    model.add(Flatten()) # flatten to one dimension (why?)\n",
    "    model.add(Dense(128, activation='relu'))\n",
    "    model.add(Dense(64, activation='relu'))\n",
    "    model.add(Dense(len(classes), activation='softmax'))\n",
    "    model.summary()\n",
    "    model.compile(loss='categorical_crossentropy',\n",
    "                 optimizer='adam',\n",
    "                 metrics=['acc']) #add loss here?\n",
    "    return model\n",
    "    "
   ]
  },
  {
   "cell_type": "code",
   "execution_count": 22,
   "metadata": {},
   "outputs": [],
   "source": [
    "def get_recurrent_model():\n",
    "    # Shape of data for RNN is (n, time(here: 9), features(here:13 because of numcep=13 when computing MFCC))\n",
    "    # (n, time, feature)\n",
    "    model = Sequential()\n",
    "    model.add(LSTM(128, return_sequences=True, # The ouput of the LSTM can return a 1D or the actual sequences(then you need)\n",
    "                   input_shape=input_shape)) #\n",
    "    model.add(LSTM(128, return_sequences=True))\n",
    "    model.add(Dropout(0.5))\n",
    "    model.add(TimeDistributed(Dense(64, activation='relu')))\n",
    "    model.add(TimeDistributed(Dense(32, activation='relu')))\n",
    "    model.add(TimeDistributed(Dense(16, activation='relu')))\n",
    "    model.add(TimeDistributed(Dense(8, activation='relu')))\n",
    "    model.add(Flatten()) # flatten to one dimension (why?)\n",
    "    model.add(Dense(10, activation='softmax'))\n",
    "    model.summary()\n",
    "    model.compile(loss='categorical_crossentropy',\n",
    "                 optimizer='adam',\n",
    "                 metrics=['acc']) #add loss here?\n",
    "    return model\n",
    "    "
   ]
  },
  {
   "cell_type": "code",
   "execution_count": 23,
   "metadata": {},
   "outputs": [],
   "source": [
    "config = Config(mode='conv')\n",
    "#config = Config(mode='time')"
   ]
  },
  {
   "cell_type": "code",
   "execution_count": 24,
   "metadata": {},
   "outputs": [
    {
     "name": "stdout",
     "output_type": "stream",
     "text": [
      "Loading existing data for conv model\n",
      "WARNING:tensorflow:From /usr/local/lib/python3.6/dist-packages/tensorflow_core/python/ops/resource_variable_ops.py:1630: calling BaseResourceVariable.__init__ (from tensorflow.python.ops.resource_variable_ops) with constraint is deprecated and will be removed in a future version.\n",
      "Instructions for updating:\n",
      "If using Keras pass *_constraint arguments to layers.\n",
      "WARNING:tensorflow:From /usr/local/lib/python3.6/dist-packages/keras/backend/tensorflow_backend.py:4070: The name tf.nn.max_pool is deprecated. Please use tf.nn.max_pool2d instead.\n",
      "\n",
      "Model: \"sequential_1\"\n",
      "_________________________________________________________________\n",
      "Layer (type)                 Output Shape              Param #   \n",
      "=================================================================\n",
      "conv2d_1 (Conv2D)            (None, 39, 13, 16)        160       \n",
      "_________________________________________________________________\n",
      "conv2d_2 (Conv2D)            (None, 39, 13, 32)        4640      \n",
      "_________________________________________________________________\n",
      "conv2d_3 (Conv2D)            (None, 39, 13, 64)        18496     \n",
      "_________________________________________________________________\n",
      "conv2d_4 (Conv2D)            (None, 39, 13, 128)       73856     \n",
      "_________________________________________________________________\n",
      "max_pooling2d_1 (MaxPooling2 (None, 19, 6, 128)        0         \n",
      "_________________________________________________________________\n",
      "dropout_1 (Dropout)          (None, 19, 6, 128)        0         \n",
      "_________________________________________________________________\n",
      "flatten_1 (Flatten)          (None, 14592)             0         \n",
      "_________________________________________________________________\n",
      "dense_1 (Dense)              (None, 128)               1867904   \n",
      "_________________________________________________________________\n",
      "dense_2 (Dense)              (None, 64)                8256      \n",
      "_________________________________________________________________\n",
      "dense_3 (Dense)              (None, 8)                 520       \n",
      "=================================================================\n",
      "Total params: 1,973,832\n",
      "Trainable params: 1,973,832\n",
      "Non-trainable params: 0\n",
      "_________________________________________________________________\n"
     ]
    }
   ],
   "source": [
    "if config.mode == 'conv':\n",
    "    X, y = build_rand_feat()\n",
    "    y_flat = np.argmax(y, axis=1)\n",
    "    input_shape = (X.shape[1], X.shape[2], 1)\n",
    "    model = get_conv_model()\n",
    "\n",
    "# For recurrent network\n",
    "elif config.mode == 'time':\n",
    "    X, y = build_rand_feat()\n",
    "    y_flat = np.argmax(y, axis=1)\n",
    "    input_shape = (X.shape[1], X.shape[2])\n",
    "    model = get_recurrent_model()"
   ]
  },
  {
   "cell_type": "code",
   "execution_count": 25,
   "metadata": {},
   "outputs": [
    {
     "data": {
      "text/plain": [
       "(26723, 39, 13, 1)"
      ]
     },
     "execution_count": 25,
     "metadata": {},
     "output_type": "execute_result"
    }
   ],
   "source": [
    "X.shape"
   ]
  },
  {
   "cell_type": "code",
   "execution_count": 26,
   "metadata": {
    "scrolled": true
   },
   "outputs": [
    {
     "name": "stdout",
     "output_type": "stream",
     "text": [
      "WARNING:tensorflow:From /usr/local/lib/python3.6/dist-packages/keras/backend/tensorflow_backend.py:422: The name tf.global_variables is deprecated. Please use tf.compat.v1.global_variables instead.\n",
      "\n",
      "Train on 21378 samples, validate on 5345 samples\n",
      "Epoch 1/50\n",
      "21378/21378 [==============================] - 9s 401us/step - loss: 1.9062 - acc: 0.2417 - val_loss: 1.7387 - val_acc: 0.3280\n",
      "\n",
      "Epoch 00001: val_acc improved from -inf to 0.32797, saving model to Processed/RAVDESSspeech/conv.model\n",
      "Epoch 2/50\n",
      "21378/21378 [==============================] - 4s 196us/step - loss: 1.6710 - acc: 0.3525 - val_loss: 1.5799 - val_acc: 0.3906\n",
      "\n",
      "Epoch 00002: val_acc improved from 0.32797 to 0.39065, saving model to Processed/RAVDESSspeech/conv.model\n",
      "Epoch 3/50\n",
      "21378/21378 [==============================] - 4s 196us/step - loss: 1.5243 - acc: 0.4150 - val_loss: 1.4781 - val_acc: 0.4309\n",
      "\n",
      "Epoch 00003: val_acc improved from 0.39065 to 0.43087, saving model to Processed/RAVDESSspeech/conv.model\n",
      "Epoch 4/50\n",
      "21378/21378 [==============================] - 4s 197us/step - loss: 1.4040 - acc: 0.4715 - val_loss: 1.3785 - val_acc: 0.4862\n",
      "\n",
      "Epoch 00004: val_acc improved from 0.43087 to 0.48625, saving model to Processed/RAVDESSspeech/conv.model\n",
      "Epoch 5/50\n",
      "21378/21378 [==============================] - 4s 190us/step - loss: 1.2971 - acc: 0.5149 - val_loss: 1.3266 - val_acc: 0.5068\n",
      "\n",
      "Epoch 00005: val_acc improved from 0.48625 to 0.50683, saving model to Processed/RAVDESSspeech/conv.model\n",
      "Epoch 6/50\n",
      "21378/21378 [==============================] - 4s 190us/step - loss: 1.1985 - acc: 0.5606 - val_loss: 1.2802 - val_acc: 0.5276\n",
      "\n",
      "Epoch 00006: val_acc improved from 0.50683 to 0.52760, saving model to Processed/RAVDESSspeech/conv.model\n",
      "Epoch 7/50\n",
      "21378/21378 [==============================] - 4s 182us/step - loss: 1.1199 - acc: 0.5872 - val_loss: 1.2271 - val_acc: 0.5500\n",
      "\n",
      "Epoch 00007: val_acc improved from 0.52760 to 0.55005, saving model to Processed/RAVDESSspeech/conv.model\n",
      "Epoch 8/50\n",
      "21378/21378 [==============================] - 4s 181us/step - loss: 1.0407 - acc: 0.6200 - val_loss: 1.1815 - val_acc: 0.5766\n",
      "\n",
      "Epoch 00008: val_acc improved from 0.55005 to 0.57661, saving model to Processed/RAVDESSspeech/conv.model\n",
      "Epoch 9/50\n",
      "21378/21378 [==============================] - 4s 179us/step - loss: 0.9661 - acc: 0.6486 - val_loss: 1.1581 - val_acc: 0.5768\n",
      "\n",
      "Epoch 00009: val_acc improved from 0.57661 to 0.57680, saving model to Processed/RAVDESSspeech/conv.model\n",
      "Epoch 10/50\n",
      "21378/21378 [==============================] - 4s 180us/step - loss: 0.9021 - acc: 0.6720 - val_loss: 1.0988 - val_acc: 0.6071\n",
      "\n",
      "Epoch 00010: val_acc improved from 0.57680 to 0.60711, saving model to Processed/RAVDESSspeech/conv.model\n",
      "Epoch 11/50\n",
      "21378/21378 [==============================] - 4s 180us/step - loss: 0.8441 - acc: 0.6955 - val_loss: 1.0884 - val_acc: 0.6189\n",
      "\n",
      "Epoch 00011: val_acc improved from 0.60711 to 0.61890, saving model to Processed/RAVDESSspeech/conv.model\n",
      "Epoch 12/50\n",
      "21378/21378 [==============================] - 4s 179us/step - loss: 0.7882 - acc: 0.7163 - val_loss: 1.0626 - val_acc: 0.6393\n",
      "\n",
      "Epoch 00012: val_acc improved from 0.61890 to 0.63929, saving model to Processed/RAVDESSspeech/conv.model\n",
      "Epoch 13/50\n",
      "21378/21378 [==============================] - 4s 178us/step - loss: 0.7358 - acc: 0.7327 - val_loss: 1.0354 - val_acc: 0.6438\n",
      "\n",
      "Epoch 00013: val_acc improved from 0.63929 to 0.64378, saving model to Processed/RAVDESSspeech/conv.model\n",
      "Epoch 14/50\n",
      "21378/21378 [==============================] - 4s 180us/step - loss: 0.7011 - acc: 0.7482 - val_loss: 1.0412 - val_acc: 0.6500\n",
      "\n",
      "Epoch 00014: val_acc improved from 0.64378 to 0.64995, saving model to Processed/RAVDESSspeech/conv.model\n",
      "Epoch 15/50\n",
      "21378/21378 [==============================] - 4s 178us/step - loss: 0.6678 - acc: 0.7588 - val_loss: 0.9985 - val_acc: 0.6638\n",
      "\n",
      "Epoch 00015: val_acc improved from 0.64995 to 0.66380, saving model to Processed/RAVDESSspeech/conv.model\n",
      "Epoch 16/50\n",
      "21378/21378 [==============================] - 4s 180us/step - loss: 0.6186 - acc: 0.7767 - val_loss: 1.0550 - val_acc: 0.6582\n",
      "\n",
      "Epoch 00016: val_acc did not improve from 0.66380\n",
      "Epoch 17/50\n",
      "21378/21378 [==============================] - 4s 179us/step - loss: 0.5950 - acc: 0.7879 - val_loss: 0.9962 - val_acc: 0.6761\n",
      "\n",
      "Epoch 00017: val_acc improved from 0.66380 to 0.67615, saving model to Processed/RAVDESSspeech/conv.model\n",
      "Epoch 18/50\n",
      "21378/21378 [==============================] - 4s 178us/step - loss: 0.5540 - acc: 0.8014 - val_loss: 1.0200 - val_acc: 0.6771\n",
      "\n",
      "Epoch 00018: val_acc improved from 0.67615 to 0.67708, saving model to Processed/RAVDESSspeech/conv.model\n",
      "Epoch 19/50\n",
      "21378/21378 [==============================] - 4s 179us/step - loss: 0.5226 - acc: 0.8126 - val_loss: 0.9705 - val_acc: 0.6926\n",
      "\n",
      "Epoch 00019: val_acc improved from 0.67708 to 0.69261, saving model to Processed/RAVDESSspeech/conv.model\n",
      "Epoch 20/50\n",
      "21378/21378 [==============================] - 4s 179us/step - loss: 0.5083 - acc: 0.8177 - val_loss: 1.0110 - val_acc: 0.6778\n",
      "\n",
      "Epoch 00020: val_acc did not improve from 0.69261\n",
      "Epoch 21/50\n",
      "21378/21378 [==============================] - 4s 180us/step - loss: 0.4894 - acc: 0.8258 - val_loss: 0.9955 - val_acc: 0.6932\n",
      "\n",
      "Epoch 00021: val_acc improved from 0.69261 to 0.69317, saving model to Processed/RAVDESSspeech/conv.model\n",
      "Epoch 22/50\n",
      "21378/21378 [==============================] - 4s 179us/step - loss: 0.4657 - acc: 0.8364 - val_loss: 0.9995 - val_acc: 0.7048\n",
      "\n",
      "Epoch 00022: val_acc improved from 0.69317 to 0.70477, saving model to Processed/RAVDESSspeech/conv.model\n",
      "Epoch 23/50\n",
      "21378/21378 [==============================] - 4s 179us/step - loss: 0.4375 - acc: 0.8444 - val_loss: 1.0311 - val_acc: 0.6937\n",
      "\n",
      "Epoch 00023: val_acc did not improve from 0.70477\n",
      "Epoch 24/50\n",
      "21378/21378 [==============================] - 4s 179us/step - loss: 0.4210 - acc: 0.8471 - val_loss: 1.0312 - val_acc: 0.6988\n",
      "\n",
      "Epoch 00024: val_acc did not improve from 0.70477\n",
      "Epoch 25/50\n",
      "21378/21378 [==============================] - 4s 179us/step - loss: 0.4165 - acc: 0.8519 - val_loss: 1.0933 - val_acc: 0.6842\n",
      "\n",
      "Epoch 00025: val_acc did not improve from 0.70477\n",
      "Epoch 26/50\n",
      "21378/21378 [==============================] - 4s 178us/step - loss: 0.4110 - acc: 0.8546 - val_loss: 1.0364 - val_acc: 0.6902\n",
      "\n",
      "Epoch 00026: val_acc did not improve from 0.70477\n",
      "Epoch 27/50\n",
      "21378/21378 [==============================] - 4s 180us/step - loss: 0.3873 - acc: 0.8617 - val_loss: 1.0067 - val_acc: 0.7085\n",
      "\n",
      "Epoch 00027: val_acc improved from 0.70477 to 0.70851, saving model to Processed/RAVDESSspeech/conv.model\n",
      "Epoch 28/50\n",
      "21378/21378 [==============================] - 4s 178us/step - loss: 0.3672 - acc: 0.8701 - val_loss: 1.0004 - val_acc: 0.7145\n",
      "\n",
      "Epoch 00028: val_acc improved from 0.70851 to 0.71450, saving model to Processed/RAVDESSspeech/conv.model\n",
      "Epoch 29/50\n",
      "21378/21378 [==============================] - 4s 178us/step - loss: 0.3624 - acc: 0.8735 - val_loss: 1.0648 - val_acc: 0.7083\n",
      "\n",
      "Epoch 00029: val_acc did not improve from 0.71450\n",
      "Epoch 30/50\n",
      "21378/21378 [==============================] - 4s 178us/step - loss: 0.3515 - acc: 0.8773 - val_loss: 1.0804 - val_acc: 0.7031\n",
      "\n",
      "Epoch 00030: val_acc did not improve from 0.71450\n",
      "Epoch 31/50\n",
      "21378/21378 [==============================] - 4s 179us/step - loss: 0.3344 - acc: 0.8830 - val_loss: 1.0382 - val_acc: 0.7115\n",
      "\n",
      "Epoch 00031: val_acc did not improve from 0.71450\n",
      "Epoch 32/50\n",
      "21378/21378 [==============================] - 4s 179us/step - loss: 0.3289 - acc: 0.8862 - val_loss: 1.0849 - val_acc: 0.7248\n",
      "\n",
      "Epoch 00032: val_acc improved from 0.71450 to 0.72479, saving model to Processed/RAVDESSspeech/conv.model\n",
      "Epoch 33/50\n",
      "21378/21378 [==============================] - 4s 178us/step - loss: 0.3336 - acc: 0.8823 - val_loss: 1.0230 - val_acc: 0.7199\n",
      "\n",
      "Epoch 00033: val_acc did not improve from 0.72479\n",
      "Epoch 34/50\n",
      "21378/21378 [==============================] - 4s 179us/step - loss: 0.3195 - acc: 0.8861 - val_loss: 1.0717 - val_acc: 0.7104\n",
      "\n",
      "Epoch 00034: val_acc did not improve from 0.72479\n",
      "Epoch 35/50\n",
      "21378/21378 [==============================] - 4s 177us/step - loss: 0.3116 - acc: 0.8892 - val_loss: 1.0292 - val_acc: 0.7216\n",
      "\n",
      "Epoch 00035: val_acc did not improve from 0.72479\n",
      "Epoch 36/50\n"
     ]
    },
    {
     "name": "stdout",
     "output_type": "stream",
     "text": [
      "21378/21378 [==============================] - 4s 180us/step - loss: 0.2951 - acc: 0.8945 - val_loss: 1.0864 - val_acc: 0.7205\n",
      "\n",
      "Epoch 00036: val_acc did not improve from 0.72479\n",
      "Epoch 37/50\n",
      "21378/21378 [==============================] - 4s 179us/step - loss: 0.3013 - acc: 0.8968 - val_loss: 1.0807 - val_acc: 0.7181\n",
      "\n",
      "Epoch 00037: val_acc did not improve from 0.72479\n",
      "Epoch 38/50\n",
      "21378/21378 [==============================] - 4s 179us/step - loss: 0.2861 - acc: 0.8986 - val_loss: 1.1034 - val_acc: 0.7231\n",
      "\n",
      "Epoch 00038: val_acc did not improve from 0.72479\n",
      "Epoch 39/50\n",
      "21378/21378 [==============================] - 4s 179us/step - loss: 0.2803 - acc: 0.9011 - val_loss: 1.0784 - val_acc: 0.7192\n",
      "\n",
      "Epoch 00039: val_acc did not improve from 0.72479\n",
      "Epoch 40/50\n",
      "21378/21378 [==============================] - 4s 179us/step - loss: 0.2772 - acc: 0.9045 - val_loss: 1.0604 - val_acc: 0.7272\n",
      "\n",
      "Epoch 00040: val_acc improved from 0.72479 to 0.72722, saving model to Processed/RAVDESSspeech/conv.model\n",
      "Epoch 41/50\n",
      "21378/21378 [==============================] - 4s 178us/step - loss: 0.2746 - acc: 0.9021 - val_loss: 1.0364 - val_acc: 0.7287\n",
      "\n",
      "Epoch 00041: val_acc improved from 0.72722 to 0.72872, saving model to Processed/RAVDESSspeech/conv.model\n",
      "Epoch 42/50\n",
      "21378/21378 [==============================] - 4s 179us/step - loss: 0.2593 - acc: 0.9108 - val_loss: 1.0948 - val_acc: 0.7295\n",
      "\n",
      "Epoch 00042: val_acc improved from 0.72872 to 0.72947, saving model to Processed/RAVDESSspeech/conv.model\n",
      "Epoch 43/50\n",
      "21378/21378 [==============================] - 4s 178us/step - loss: 0.2494 - acc: 0.9128 - val_loss: 1.0373 - val_acc: 0.7373\n",
      "\n",
      "Epoch 00043: val_acc improved from 0.72947 to 0.73732, saving model to Processed/RAVDESSspeech/conv.model\n",
      "Epoch 44/50\n",
      "21378/21378 [==============================] - 4s 179us/step - loss: 0.2552 - acc: 0.9114 - val_loss: 1.0496 - val_acc: 0.7379\n",
      "\n",
      "Epoch 00044: val_acc improved from 0.73732 to 0.73789, saving model to Processed/RAVDESSspeech/conv.model\n",
      "Epoch 45/50\n",
      "21378/21378 [==============================] - 4s 179us/step - loss: 0.2482 - acc: 0.9117 - val_loss: 1.0178 - val_acc: 0.7416\n",
      "\n",
      "Epoch 00045: val_acc improved from 0.73789 to 0.74163, saving model to Processed/RAVDESSspeech/conv.model\n",
      "Epoch 46/50\n",
      "21378/21378 [==============================] - 4s 179us/step - loss: 0.2398 - acc: 0.9157 - val_loss: 1.0865 - val_acc: 0.7334\n",
      "\n",
      "Epoch 00046: val_acc did not improve from 0.74163\n",
      "Epoch 47/50\n",
      "21378/21378 [==============================] - 4s 178us/step - loss: 0.2367 - acc: 0.9178 - val_loss: 1.1065 - val_acc: 0.7310\n",
      "\n",
      "Epoch 00047: val_acc did not improve from 0.74163\n",
      "Epoch 48/50\n",
      "21378/21378 [==============================] - 4s 178us/step - loss: 0.2353 - acc: 0.9195 - val_loss: 1.1492 - val_acc: 0.7270\n",
      "\n",
      "Epoch 00048: val_acc did not improve from 0.74163\n",
      "Epoch 49/50\n",
      "21378/21378 [==============================] - 4s 179us/step - loss: 0.2322 - acc: 0.9205 - val_loss: 1.1161 - val_acc: 0.7312\n",
      "\n",
      "Epoch 00049: val_acc did not improve from 0.74163\n",
      "Epoch 50/50\n",
      "21378/21378 [==============================] - 4s 179us/step - loss: 0.2338 - acc: 0.9194 - val_loss: 1.1027 - val_acc: 0.7356\n",
      "\n",
      "Epoch 00050: val_acc did not improve from 0.74163\n"
     ]
    }
   ],
   "source": [
    "# May help accuracy/loss a couple percent if class distribution is uneven\n",
    "class_weight = compute_class_weight('balanced',\n",
    "                                    np.unique(y_flat),\n",
    "                                    y_flat) # to compensate for classes that have fewer samples to train on\n",
    "\n",
    "checkpoint = ModelCheckpoint(config.model_path, monitor='val_acc', verbose=1, mode='max', # val_acc -> mode='max', loss mode='minimum'\n",
    "                             save_best_only=True, save_weights_only=False, period=1)\n",
    "\n",
    "history = model.fit(X, y, epochs=50, batch_size=32,\n",
    "         shuffle=True, # technically already shuffled(?)\n",
    "         class_weight=class_weight, # to handle class imbalance, to make sure model doesn't create biases based on distribution of data size\n",
    "         validation_split=0.2, callbacks=[checkpoint])\n",
    "\n",
    "#model.save(config.model_path)"
   ]
  },
  {
   "cell_type": "code",
   "execution_count": 27,
   "metadata": {
    "scrolled": false
   },
   "outputs": [
    {
     "data": {
      "text/plain": [
       "{'batch_size': 32,\n",
       " 'epochs': 50,\n",
       " 'steps': None,\n",
       " 'samples': 21378,\n",
       " 'verbose': 1,\n",
       " 'do_validation': True,\n",
       " 'metrics': ['loss', 'acc', 'val_loss', 'val_acc']}"
      ]
     },
     "execution_count": 27,
     "metadata": {},
     "output_type": "execute_result"
    }
   ],
   "source": [
    "history.params"
   ]
  },
  {
   "cell_type": "code",
   "execution_count": 28,
   "metadata": {},
   "outputs": [],
   "source": [
    "from sklearn.metrics import confusion_matrix"
   ]
  },
  {
   "cell_type": "code",
   "execution_count": 57,
   "metadata": {
    "scrolled": true
   },
   "outputs": [
    {
     "name": "stdout",
     "output_type": "stream",
     "text": [
      "5345\n",
      "[[0. 0. 1. ... 0. 0. 0.]\n",
      " [1. 0. 0. ... 0. 0. 0.]\n",
      " [1. 0. 0. ... 0. 0. 0.]\n",
      " ...\n",
      " [0. 0. 0. ... 1. 0. 0.]\n",
      " [0. 0. 0. ... 0. 0. 1.]\n",
      " [0. 0. 0. ... 1. 0. 0.]]\n"
     ]
    }
   ],
   "source": [
    "print(len(history.validation_data[1]))\n",
    "print(history.validation_data[1])"
   ]
  },
  {
   "cell_type": "code",
   "execution_count": 60,
   "metadata": {
    "scrolled": true
   },
   "outputs": [],
   "source": [
    "predictions_val = model.predict(history.validation_data[0])"
   ]
  },
  {
   "cell_type": "code",
   "execution_count": 65,
   "metadata": {},
   "outputs": [
    {
     "data": {
      "text/plain": [
       "array([8.10617581e-04, 1.03800595e-07, 9.96807694e-01, 3.80794110e-04,\n",
       "       4.77038084e-05, 1.05757111e-10, 9.38270299e-04, 1.01471250e-03],\n",
       "      dtype=float32)"
      ]
     },
     "execution_count": 65,
     "metadata": {},
     "output_type": "execute_result"
    }
   ],
   "source": [
    "predictions_val[0]"
   ]
  },
  {
   "cell_type": "code",
   "execution_count": 76,
   "metadata": {
    "scrolled": false
   },
   "outputs": [
    {
     "data": {
      "text/plain": [
       "array([2, 0, 0, ..., 5, 7, 5])"
      ]
     },
     "execution_count": 76,
     "metadata": {},
     "output_type": "execute_result"
    }
   ],
   "source": [
    "np.argmax(predictions_val, axis=1)"
   ]
  },
  {
   "cell_type": "code",
   "execution_count": 77,
   "metadata": {},
   "outputs": [
    {
     "data": {
      "text/plain": [
       "array([2, 0, 0, ..., 5, 7, 5])"
      ]
     },
     "execution_count": 77,
     "metadata": {},
     "output_type": "execute_result"
    }
   ],
   "source": [
    "np.argmax(history.validation_data[1], axis=1)"
   ]
  },
  {
   "cell_type": "code",
   "execution_count": 68,
   "metadata": {},
   "outputs": [
    {
     "data": {
      "text/plain": [
       "array([[0., 0., 1., ..., 0., 0., 0.],\n",
       "       [1., 0., 0., ..., 0., 0., 0.],\n",
       "       [1., 0., 0., ..., 0., 0., 0.],\n",
       "       ...,\n",
       "       [0., 0., 0., ..., 1., 0., 0.],\n",
       "       [0., 0., 0., ..., 0., 0., 1.],\n",
       "       [0., 0., 0., ..., 1., 0., 0.]], dtype=float32)"
      ]
     },
     "execution_count": 68,
     "metadata": {},
     "output_type": "execute_result"
    }
   ],
   "source": [
    "history.validation_data[1]"
   ]
  },
  {
   "cell_type": "code",
   "execution_count": 79,
   "metadata": {
    "scrolled": true
   },
   "outputs": [
    {
     "data": {
      "text/plain": [
       "array([[596,   1,  34,  29,  29,   6,   6,  32],\n",
       "       [  8, 518,   9,   8,  16,  58,  23,   8],\n",
       "       [ 61,  17, 519,  55,  34,  11,  29,  36],\n",
       "       [ 51,   9,  15, 540,  45,   3,  20,  63],\n",
       "       [ 35,  14,  13,  39, 498,   7,  12,  53],\n",
       "       [  5,  19,   7,   5,  15, 488,  14,  15],\n",
       "       [ 33,  43,  32,  56,  42,  34, 375,  26],\n",
       "       [ 33,   6,  19,  44,  54,   6,  16, 398]])"
      ]
     },
     "execution_count": 79,
     "metadata": {},
     "output_type": "execute_result"
    }
   ],
   "source": [
    "conf_matrix = confusion_matrix(np.argmax(history.validation_data[1], axis=1), np.argmax(predictions_val, axis=1))\n",
    "conf_matrix"
   ]
  },
  {
   "cell_type": "code",
   "execution_count": 93,
   "metadata": {
    "scrolled": true
   },
   "outputs": [
    {
     "data": {
      "text/plain": [
       "5345"
      ]
     },
     "execution_count": 93,
     "metadata": {},
     "output_type": "execute_result"
    }
   ],
   "source": [
    "len([np.argmax(history.validation_data[1], axis=1)[i] == np.argmax(predictions_val, axis=1)[i]  for i in range(0, len(history.validation_data[1]))])"
   ]
  },
  {
   "cell_type": "code",
   "execution_count": 94,
   "metadata": {},
   "outputs": [
    {
     "data": {
      "text/plain": [
       "3932"
      ]
     },
     "execution_count": 94,
     "metadata": {},
     "output_type": "execute_result"
    }
   ],
   "source": [
    "[np.argmax(history.validation_data[1], axis=1)[i] == np.argmax(predictions_val, axis=1)[i]  for i in range(0, len(history.validation_data[1]))].count(True)"
   ]
  },
  {
   "cell_type": "code",
   "execution_count": 95,
   "metadata": {},
   "outputs": [
    {
     "data": {
      "text/plain": [
       "0.7356407857811038"
      ]
     },
     "execution_count": 95,
     "metadata": {},
     "output_type": "execute_result"
    }
   ],
   "source": [
    "3932/5345"
   ]
  },
  {
   "cell_type": "code",
   "execution_count": 91,
   "metadata": {
    "scrolled": true
   },
   "outputs": [
    {
     "name": "stdout",
     "output_type": "stream",
     "text": [
      "[2 0 0 ... 5 7 5]\n"
     ]
    }
   ],
   "source": [
    "print(np.argmax(history.validation_data[1], axis=1))"
   ]
  },
  {
   "cell_type": "code",
   "execution_count": 92,
   "metadata": {},
   "outputs": [
    {
     "data": {
      "text/plain": [
       "array([2, 0, 0, ..., 5, 7, 5])"
      ]
     },
     "execution_count": 92,
     "metadata": {},
     "output_type": "execute_result"
    }
   ],
   "source": [
    "np.argmax(predictions_val, axis=1)"
   ]
  },
  {
   "cell_type": "code",
   "execution_count": 81,
   "metadata": {},
   "outputs": [],
   "source": [
    "import seaborn as sn"
   ]
  },
  {
   "cell_type": "code",
   "execution_count": 85,
   "metadata": {},
   "outputs": [
    {
     "data": {
      "text/plain": [
       "<matplotlib.axes._subplots.AxesSubplot at 0x7efa46782d30>"
      ]
     },
     "execution_count": 85,
     "metadata": {},
     "output_type": "execute_result"
    },
    {
     "data": {
      "image/png": "[encoded data removed]",
      "text/plain": [
       "<Figure size 720x720 with 2 Axes>"
      ]
     },
     "metadata": {
      "needs_background": "light"
     },
     "output_type": "display_data"
    }
   ],
   "source": [
    "fig, axes = plt.subplots(figsize=(10,10))\n",
    "df_cm = pd.DataFrame(conf_matrix, index=classes, columns=classes)\n",
    "fig.suptitle('Confusion Matrix', size=16)\n",
    "sn.heatmap(df_cm, annot=True, cmap='YlGnBu')"
   ]
  },
  {
   "cell_type": "markdown",
   "metadata": {},
   "source": [
    "TESTING SHIT"
   ]
  },
  {
   "cell_type": "code",
   "execution_count": null,
   "metadata": {},
   "outputs": [],
   "source": [
    "print(X.shape)\n",
    "print(len(X[0]))\n",
    "X[0][0]"
   ]
  },
  {
   "cell_type": "code",
   "execution_count": null,
   "metadata": {},
   "outputs": [],
   "source": [
    "print(prereshape.shape)\n",
    "print(len(prereshape[0]))\n",
    "prereshape[0][0]"
   ]
  },
  {
   "cell_type": "code",
   "execution_count": null,
   "metadata": {},
   "outputs": [],
   "source": [
    "prereshape.reshape(X.shape[0], X.shape[1], X.shape[2]).shape"
   ]
  },
  {
   "cell_type": "markdown",
   "metadata": {},
   "source": [
    "PART 5 here"
   ]
  },
  {
   "cell_type": "code",
   "execution_count": null,
   "metadata": {},
   "outputs": [],
   "source": []
  }
 ],
 "metadata": {
  "kernelspec": {
   "display_name": "Python 3",
   "language": "python",
   "name": "python3"
  },
  "language_info": {
   "codemirror_mode": {
    "name": "ipython",
    "version": 3
   },
   "file_extension": ".py",
   "mimetype": "text/x-python",
   "name": "python",
   "nbconvert_exporter": "python",
   "pygments_lexer": "ipython3",
   "version": "3.6.8"
  }
 },
 "nbformat": 4,
 "nbformat_minor": 4
}
