{
 "cells": [
  {
   "cell_type": "code",
   "execution_count": 2,
   "metadata": {},
   "outputs": [],
   "source": [
    "import os\n",
    "import pandas as pd"
   ]
  },
  {
   "cell_type": "code",
   "execution_count": 67,
   "metadata": {},
   "outputs": [],
   "source": [
    "IDENTIFIERS = ['Modality',\n",
    "               'VocalChannel',\n",
    "               'Emotion',\n",
    "               'EmotionalIntensity',\n",
    "               'Statement',\n",
    "               'Repitition',\n",
    "               'Actor']\n",
    "\n",
    "EMOTIONS = {\n",
    "    '01': 'Neutral',\n",
    "    '02': 'Calm',\n",
    "    '03': 'Happy',\n",
    "    '04': 'Sad',\n",
    "    '05': 'Angry',\n",
    "    '06': 'Fearful',\n",
    "    '07': 'Disgust',\n",
    "    '08': 'Surprised'\n",
    "}\n",
    "\n",
    "def get_id(id):\n",
    "    return IDENTIFIERS.index(id)"
   ]
  },
  {
   "cell_type": "code",
   "execution_count": 89,
   "metadata": {},
   "outputs": [],
   "source": [
    "df = pd.DataFrame(columns = ['FilePath', 'Modality', 'VocalChannel', 'Emotion', 'EmotionalIntensity', 'Statement', 'Repitition','Actor', 'Gender']) \n",
    "#df.set_index('FilePath')"
   ]
  },
  {
   "cell_type": "code",
   "execution_count": 90,
   "metadata": {},
   "outputs": [
    {
     "name": "stdout",
     "output_type": "stream",
     "text": [
      "                                               FilePath Modality VocalChannel  \\\n",
      "0     Datasets/Audio_Speech_Actors_01-24/Actor_05/03...       03           01   \n",
      "1     Datasets/Audio_Speech_Actors_01-24/Actor_05/03...       03           01   \n",
      "2     Datasets/Audio_Speech_Actors_01-24/Actor_05/03...       03           01   \n",
      "3     Datasets/Audio_Speech_Actors_01-24/Actor_05/03...       03           01   \n",
      "4     Datasets/Audio_Speech_Actors_01-24/Actor_05/03...       03           01   \n",
      "...                                                 ...      ...          ...   \n",
      "1435  Datasets/Audio_Speech_Actors_01-24/Actor_04/03...       03           01   \n",
      "1436  Datasets/Audio_Speech_Actors_01-24/Actor_04/03...       03           01   \n",
      "1437  Datasets/Audio_Speech_Actors_01-24/Actor_04/03...       03           01   \n",
      "1438  Datasets/Audio_Speech_Actors_01-24/Actor_04/03...       03           01   \n",
      "1439  Datasets/Audio_Speech_Actors_01-24/Actor_04/03...       03           01   \n",
      "\n",
      "      Emotion EmotionalIntensity Statement Repitition Actor  Gender  \n",
      "0     Neutral                 01        01         02    05    Male  \n",
      "1         Sad                 02        02         01    05    Male  \n",
      "2         Sad                 01        01         02    05    Male  \n",
      "3       Happy                 02        01         02    05    Male  \n",
      "4         Sad                 02        01         01    05    Male  \n",
      "...       ...                ...       ...        ...   ...     ...  \n",
      "1435  Fearful                 02        02         01    04  Female  \n",
      "1436  Neutral                 01        02         02    04  Female  \n",
      "1437  Fearful                 01        02         02    04  Female  \n",
      "1438  Disgust                 02        02         02    04  Female  \n",
      "1439    Happy                 02        02         01    04  Female  \n",
      "\n",
      "[1440 rows x 9 columns]\n"
     ]
    }
   ],
   "source": [
    "#dataset_path = 'Datasets/Audio_Song_Actors_01-24'\n",
    "dataset_path = 'Datasets/Audio_Speech_Actors_01-24'\n",
    "\n",
    "files = []\n",
    "\n",
    "actors = os.listdir(dataset_path)\n",
    "for actor in actors:\n",
    "    #print(actor)\n",
    "    actor_files = os.listdir(os.path.join(dataset_path, actor))\n",
    "    for file in actor_files:\n",
    "        ids = file[:-4].split('-')\n",
    "        filedict = {}\n",
    "        filedict['FilePath'] = os.path.join(dataset_path, actor, file)\n",
    "        filedict['Filename'] = file\n",
    "        \"\"\"\n",
    "        filedict['Modality'] = \n",
    "        filedict['VocalChannel']\n",
    "        filedict['Emotion']\n",
    "        filedict['EmotionalIntensity']\n",
    "        filedict['Statement']\n",
    "        filedict['Repitition']\n",
    "        filedict['Actor']\n",
    "        filedict['Gender']\"\"\"\n",
    "        for ID in IDENTIFIERS:\n",
    "            if ID == 'Emotion':\n",
    "                filedict[ID] = EMOTIONS[ids[get_id(ID)]]\n",
    "                continue\n",
    "            elif ID == 'Actor':\n",
    "                filedict['Gender'] = 'Male' if int(ids[get_id(ID)])%2 else 'Female'\n",
    "            filedict[ID] = ids[get_id(ID)]\n",
    "        \n",
    "        df = df.append(filedict, ignore_index=True)\n",
    "        #print(get_id('Emotion'))\n",
    "        #break\n",
    "    #break\n",
    "df.set_index('FilePath')\n",
    "print(df)\n",
    "\n",
    "df.to_csv('radvessspeech.csv', index=False)\n",
    "#df = pd.DataFrame(files, columns = ['FilePath', 'Modality', 'VocalChannel', 'Emotion', 'EmotionalIntensity', 'Statement', 'Repitition','Actor', 'Gender']) \n"
   ]
  },
  {
   "cell_type": "code",
   "execution_count": 75,
   "metadata": {},
   "outputs": [
    {
     "name": "stdout",
     "output_type": "stream",
     "text": [
      "0 f\n",
      "1 m\n",
      "2 f\n",
      "3 m\n",
      "4 f\n",
      "5 m\n",
      "6 f\n",
      "7 m\n",
      "8 f\n",
      "9 m\n"
     ]
    },
    {
     "data": {
      "text/plain": [
       "1440"
      ]
     },
     "execution_count": 75,
     "metadata": {},
     "output_type": "execute_result"
    }
   ],
   "source": [
    "for i in range(0,10):\n",
    "    x = 'm' if i%2 else 'f'\n",
    "    print(i, x)\n",
    "60*24"
   ]
  },
  {
   "cell_type": "code",
   "execution_count": 35,
   "metadata": {
    "scrolled": true
   },
   "outputs": [
    {
     "data": {
      "text/html": [
       "<div>\n",
       "<style scoped>\n",
       "    .dataframe tbody tr th:only-of-type {\n",
       "        vertical-align: middle;\n",
       "    }\n",
       "\n",
       "    .dataframe tbody tr th {\n",
       "        vertical-align: top;\n",
       "    }\n",
       "\n",
       "    .dataframe thead th {\n",
       "        text-align: right;\n",
       "    }\n",
       "</style>\n",
       "<table border=\"1\" class=\"dataframe\">\n",
       "  <thead>\n",
       "    <tr style=\"text-align: right;\">\n",
       "      <th></th>\n",
       "      <th>FilePath</th>\n",
       "      <th>Modality</th>\n",
       "      <th>VocalChannel</th>\n",
       "      <th>Emotion</th>\n",
       "      <th>EmotionalIntensity</th>\n",
       "      <th>Statement</th>\n",
       "      <th>Repitition</th>\n",
       "      <th>Actor</th>\n",
       "      <th>Gender</th>\n",
       "    </tr>\n",
       "  </thead>\n",
       "  <tbody>\n",
       "  </tbody>\n",
       "</table>\n",
       "</div>"
      ],
      "text/plain": [
       "Empty DataFrame\n",
       "Columns: [FilePath, Modality, VocalChannel, Emotion, EmotionalIntensity, Statement, Repitition, Actor, Gender]\n",
       "Index: []"
      ]
     },
     "execution_count": 35,
     "metadata": {},
     "output_type": "execute_result"
    }
   ],
   "source": [
    "df"
   ]
  },
  {
   "cell_type": "code",
   "execution_count": 30,
   "metadata": {},
   "outputs": [],
   "source": [
    "df = pd.DataFrame( columns = ['FilePath', 'Modality', 'VocalChannel', 'Emotion', 'EmotionalIntensity', 'Statement', 'Repitition','Actor', 'Gender']) \n",
    "df.set_index('FilePath', inplace=True)"
   ]
  },
  {
   "cell_type": "code",
   "execution_count": 31,
   "metadata": {},
   "outputs": [
    {
     "data": {
      "text/html": [
       "<div>\n",
       "<style scoped>\n",
       "    .dataframe tbody tr th:only-of-type {\n",
       "        vertical-align: middle;\n",
       "    }\n",
       "\n",
       "    .dataframe tbody tr th {\n",
       "        vertical-align: top;\n",
       "    }\n",
       "\n",
       "    .dataframe thead th {\n",
       "        text-align: right;\n",
       "    }\n",
       "</style>\n",
       "<table border=\"1\" class=\"dataframe\">\n",
       "  <thead>\n",
       "    <tr style=\"text-align: right;\">\n",
       "      <th></th>\n",
       "      <th>Modality</th>\n",
       "      <th>VocalChannel</th>\n",
       "      <th>Emotion</th>\n",
       "      <th>EmotionalIntensity</th>\n",
       "      <th>Statement</th>\n",
       "      <th>Repitition</th>\n",
       "      <th>Actor</th>\n",
       "      <th>Gender</th>\n",
       "    </tr>\n",
       "    <tr>\n",
       "      <th>FilePath</th>\n",
       "      <th></th>\n",
       "      <th></th>\n",
       "      <th></th>\n",
       "      <th></th>\n",
       "      <th></th>\n",
       "      <th></th>\n",
       "      <th></th>\n",
       "      <th></th>\n",
       "    </tr>\n",
       "  </thead>\n",
       "  <tbody>\n",
       "  </tbody>\n",
       "</table>\n",
       "</div>"
      ],
      "text/plain": [
       "Empty DataFrame\n",
       "Columns: [Modality, VocalChannel, Emotion, EmotionalIntensity, Statement, Repitition, Actor, Gender]\n",
       "Index: []"
      ]
     },
     "execution_count": 31,
     "metadata": {},
     "output_type": "execute_result"
    }
   ],
   "source": [
    "df"
   ]
  },
  {
   "cell_type": "code",
   "execution_count": null,
   "metadata": {},
   "outputs": [],
   "source": []
  }
 ],
 "metadata": {
  "kernelspec": {
   "display_name": "Python 3",
   "language": "python",
   "name": "python3"
  },
  "language_info": {
   "codemirror_mode": {
    "name": "ipython",
    "version": 3
   },
   "file_extension": ".py",
   "mimetype": "text/x-python",
   "name": "python",
   "nbconvert_exporter": "python",
   "pygments_lexer": "ipython3",
   "version": "3.6.8"
  }
 },
 "nbformat": 4,
 "nbformat_minor": 4
}
