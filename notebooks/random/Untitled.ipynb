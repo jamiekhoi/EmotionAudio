{
 "cells": [
  {
   "cell_type": "code",
   "execution_count": 1,
   "metadata": {},
   "outputs": [],
   "source": [
    "import argparse\n",
    "import os\n",
    "import xlrd\n",
    "import numpy as np\n",
    "import random\n",
    "import librosa\n",
    "\n",
    "joinpath = os.path.join\n",
    "listdir = os.listdir\n",
    "\n",
    "IDENTIFIERS = ['Modality',\n",
    "               'Vocal channel',\n",
    "               'Emotion',\n",
    "               'Emotional intensity',\n",
    "               'Statment',\n",
    "               'Repitition',\n",
    "               'Actor']\n"
   ]
  },
  {
   "cell_type": "code",
   "execution_count": 13,
   "metadata": {},
   "outputs": [],
   "source": [
    "TEST_FILE_PATH = '03-01-03-02-01-02-09.wav'"
   ]
  },
  {
   "cell_type": "code",
   "execution_count": null,
   "metadata": {},
   "outputs": [],
   "source": [
    "def get_id(id):\n",
    "    return IDENTIFIERS.index(id)\n",
    "\n",
    "\n",
    "def convert_to_mel_spectrogram():\n",
    "    pass\n",
    "\n",
    "\n",
    "def extract_features(file_name):\n",
    "    \"\"\"\n",
    "    Taken from https://medium.com/@mikesmales/sound-classification-using-deep-learning-8bc2aa1990b7\n",
    "    :param file_name:\n",
    "    :return:\n",
    "    \"\"\"\n",
    "    try:\n",
    "        audio, sample_rate = librosa.load(file_name, res_type='kaiser_fast')\n",
    "        mfccs = librosa.feature.mfcc(y=audio, sr=sample_rate, n_mfcc=40)\n",
    "        mfccsscaled = np.mean(mfccs.T, axis=0)\n",
    "\n",
    "    except Exception as e:\n",
    "        print(\"Error encountered while parsing file: \", file_name)\n",
    "        return None\n",
    "\n",
    "    return mfccsscaled\n"
   ]
  },
  {
   "cell_type": "code",
   "execution_count": 21,
   "metadata": {},
   "outputs": [],
   "source": [
    "audio, sample_rate = librosa.load(TEST_FILE_PATH)"
   ]
  },
  {
   "cell_type": "code",
   "execution_count": 22,
   "metadata": {},
   "outputs": [
    {
     "data": {
      "text/plain": [
       "array([-4.1255142e-05, -7.0343514e-05, -4.3029409e-05, ...,\n",
       "       -1.3456123e-04, -1.0660093e-04,  0.0000000e+00], dtype=float32)"
      ]
     },
     "execution_count": 22,
     "metadata": {},
     "output_type": "execute_result"
    }
   ],
   "source": [
    "audio"
   ]
  },
  {
   "cell_type": "code",
   "execution_count": 23,
   "metadata": {},
   "outputs": [],
   "source": [
    "signal = audio[0:int(3.5 * sample_rate)]  # Keep the first 3.5 seconds\n"
   ]
  },
  {
   "cell_type": "code",
   "execution_count": null,
   "metadata": {},
   "outputs": [],
   "source": []
  }
 ],
 "metadata": {
  "kernelspec": {
   "display_name": "Python 3",
   "language": "python",
   "name": "python3"
  },
  "language_info": {
   "codemirror_mode": {
    "name": "ipython",
    "version": 3
   },
   "file_extension": ".py",
   "mimetype": "text/x-python",
   "name": "python",
   "nbconvert_exporter": "python",
   "pygments_lexer": "ipython3",
   "version": "3.7.5"
  }
 },
 "nbformat": 4,
 "nbformat_minor": 4
}
